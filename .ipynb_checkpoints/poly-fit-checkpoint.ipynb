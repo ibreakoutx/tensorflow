{
 "cells": [
  {
   "cell_type": "markdown",
   "metadata": {},
   "source": [
    "### Using Tensorflow as a generalized compute graph\n",
    "\n",
    "Fit a high order polynomial , defined by poly order.\n",
    "\n",
    "In this experiment, we generate a random polynomial function of the given order.\n",
    "\n",
    "Using the sampled data, we want to see if tensorflow's gradient descent can determine\n",
    "\n",
    "the random weights (and fit the same curve to the data)\n",
    "\n",
    "Trend observed is that the higher the polynomial order, the lower the learning rate needs to be.   \n",
    "(as low as 0.00001) for poly order of 10, otherwise gradient descent diverges (nan values)\n",
    "\n",
    "For lower order (say 3), need to increase the learning rate, else need a lot more iterations."
   ]
  },
  {
   "cell_type": "code",
   "execution_count": 59,
   "metadata": {
    "collapsed": false
   },
   "outputs": [
    {
     "name": "stdout",
     "output_type": "stream",
     "text": [
      "('W_ shape:', (3, 1))\n",
      "('W_:', array([[ 0.21037011],\n",
      "       [-0.00825693],\n",
      "       [ 0.07540296]]))\n",
      "('b_:', array([-1.25128805]))\n"
     ]
    }
   ],
   "source": [
    "import numpy as np\n",
    "import matplotlib.pyplot as plt\n",
    "import tensorflow as tf\n",
    "%matplotlib inline\n",
    "\n",
    "poly_order = 3\n",
    "\n",
    "x = np.arange(-2,2,0.01)\n",
    "x = x[:,None]\n",
    "X_ = x\n",
    "for i in range(2,poly_order+1,1):\n",
    "    X_ = np.hstack((X_,x**i))\n",
    "#print(X_)\n",
    "\n",
    "W_ = np.random.uniform(-0.5,0.5,size=poly_order)\n",
    "W_ = W_[:,None]\n",
    "b_ = np.random.randn(1)\n",
    "print('W_ shape:',W_.shape)\n",
    "print('W_:',W_)\n",
    "print('b_:',b_)\n",
    "\n",
    "Y_ = np.dot(X_,W_) + b_\n",
    "\n",
    "#y_  = 0.01*x1_**5 -0.4*x1_**2+0.3*x1_**2-0.8*x1_-0.55"
   ]
  },
  {
   "cell_type": "code",
   "execution_count": 60,
   "metadata": {
    "collapsed": false
   },
   "outputs": [
    {
     "data": {
      "text/plain": [
       "[<matplotlib.lines.Line2D at 0x139f9ded0>]"
      ]
     },
     "execution_count": 60,
     "metadata": {},
     "output_type": "execute_result"
    },
    {
     "data": {
      "image/png": "[encoded data removed]",
      "text/plain": [
       "<matplotlib.figure.Figure at 0x139939c10>"
      ]
     },
     "metadata": {},
     "output_type": "display_data"
    }
   ],
   "source": [
    "plt.plot(X_[:,0],Y_[:,0])"
   ]
  },
  {
   "cell_type": "code",
   "execution_count": 61,
   "metadata": {
    "collapsed": true
   },
   "outputs": [],
   "source": [
    "# Create the model\n",
    "X = tf.placeholder(tf.float32, [None, poly_order])\n",
    "\n",
    "W = tf.Variable(tf.zeros([poly_order, 1]))\n",
    "b = tf.Variable(tf.zeros([1]))\n",
    "\n",
    "Y = tf.matmul(X, W) + b"
   ]
  },
  {
   "cell_type": "code",
   "execution_count": 62,
   "metadata": {
    "collapsed": false,
    "scrolled": true
   },
   "outputs": [
    {
     "name": "stdout",
     "output_type": "stream",
     "text": [
      "WARNING:tensorflow:From <ipython-input-62-4e5bda68a499>:7: initialize_all_variables (from tensorflow.python.ops.variables) is deprecated and will be removed after 2017-03-02.\n",
      "Instructions for updating:\n",
      "Use `tf.global_variables_initializer` instead.\n",
      "('loss = ', 1.2967314e-09)\n"
     ]
    },
    {
     "data": {
      "text/plain": [
       "[<matplotlib.lines.Line2D at 0x13bd8b550>,\n",
       " <matplotlib.lines.Line2D at 0x13bd8b750>]"
      ]
     },
     "execution_count": 62,
     "metadata": {},
     "output_type": "execute_result"
    },
    {
     "data": {
      "image/png": "[encoded data removed]",
      "text/plain": [
       "<matplotlib.figure.Figure at 0x1387fcb10>"
      ]
     },
     "metadata": {},
     "output_type": "display_data"
    }
   ],
   "source": [
    "loss = tf.reduce_mean(tf.square(Y - Y_))\n",
    "\n",
    "optimizer = tf.train.GradientDescentOptimizer(0.01)\n",
    "train = optimizer.minimize(loss)\n",
    "\n",
    "# Before starting, initialize the variables.  We will 'run' this first.\n",
    "init = tf.initialize_all_variables()\n",
    "\n",
    "# Launch the graph.\n",
    "sess = tf.Session()\n",
    "sess.run(init)\n",
    "\n",
    "# Fit the line.\n",
    "for step in range(2000):\n",
    "    sess.run(train, feed_dict={X: X_})\n",
    "    #if step % 200 == 0:\n",
    "\n",
    "#print(step, sess.run(W), sess.run(b))\n",
    "#print('W_:',W_)\n",
    "#print('b_:',b_)\n",
    "%matplotlib inline\n",
    "print('loss = ' , sess.run(loss, feed_dict={X: X_}))\n",
    "Wpred = sess.run(W)\n",
    "bpred = sess.run(b)\n",
    "Ypred = np.dot(X_,Wpred) + bpred\n",
    "\n",
    "plt.plot(X_[:,0],Ypred[:,0], 'r' , X_[:,0],Y_[:,0], 'b')"
   ]
  }
 ],
 "metadata": {
  "anaconda-cloud": {},
  "kernelspec": {
   "display_name": "Python [conda root]",
   "language": "python",
   "name": "conda-root-py"
  },
  "language_info": {
   "codemirror_mode": {
    "name": "ipython",
    "version": 2
   },
   "file_extension": ".py",
   "mimetype": "text/x-python",
   "name": "python",
   "nbconvert_exporter": "python",
   "pygments_lexer": "ipython2",
   "version": "2.7.12"
  }
 },
 "nbformat": 4,
 "nbformat_minor": 1
}
